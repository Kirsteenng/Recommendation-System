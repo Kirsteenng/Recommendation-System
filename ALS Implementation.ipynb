{
 "cells": [
  {
   "cell_type": "markdown",
   "id": "abcc3fd1",
   "metadata": {},
   "source": [
    "# ALS Implementation on implicit feedback\n",
    "\n",
    "This notebook uses ratings.csv from [Movielens](https://grouplens.org/datasets/movielens/latest/) to implement ALS developed in this [paper](http://yifanhu.net/PUB/cf.pdf)  \n"
   ]
  },
  {
   "cell_type": "code",
   "execution_count": 81,
   "id": "01efc170",
   "metadata": {},
   "outputs": [],
   "source": [
    "# Import the required library\n",
    "import pandas as pd\n",
    "import numpy as np\n",
    "from tqdm.notebook import tqdm_notebook"
   ]
  },
  {
   "cell_type": "markdown",
   "id": "e303c2a4",
   "metadata": {},
   "source": [
    "### Reading in ratings data"
   ]
  },
  {
   "cell_type": "markdown",
   "id": "9c27526e",
   "metadata": {},
   "source": [
    "ratings = pd.read_csv('/Users/Kirsteenng_1/Data Science/Movie Recommendation system/ratings.csv')"
   ]
  },
  {
   "cell_type": "code",
   "execution_count": 13,
   "id": "73145276",
   "metadata": {},
   "outputs": [
    {
     "data": {
      "text/plain": [
       "<bound method NDFrame.describe of         userId  movieId  rating   timestamp\n",
       "0            1        1     4.0   964982703\n",
       "1            1        3     4.0   964981247\n",
       "2            1        6     4.0   964982224\n",
       "3            1       47     5.0   964983815\n",
       "4            1       50     5.0   964982931\n",
       "...        ...      ...     ...         ...\n",
       "100831     610   166534     4.0  1493848402\n",
       "100832     610   168248     5.0  1493850091\n",
       "100833     610   168250     5.0  1494273047\n",
       "100834     610   168252     5.0  1493846352\n",
       "100835     610   170875     3.0  1493846415\n",
       "\n",
       "[100836 rows x 4 columns]>"
      ]
     },
     "execution_count": 13,
     "metadata": {},
     "output_type": "execute_result"
    }
   ],
   "source": [
    "ratings.describe"
   ]
  },
  {
   "cell_type": "code",
   "execution_count": 21,
   "id": "8df17d44",
   "metadata": {},
   "outputs": [
    {
     "name": "stdout",
     "output_type": "stream",
     "text": [
      "<class 'pandas.core.frame.DataFrame'>\n",
      "RangeIndex: 100836 entries, 0 to 100835\n",
      "Data columns (total 3 columns):\n",
      " #   Column   Non-Null Count   Dtype  \n",
      "---  ------   --------------   -----  \n",
      " 0   userId   100836 non-null  int64  \n",
      " 1   movieId  100836 non-null  int64  \n",
      " 2   rating   100836 non-null  float64\n",
      "dtypes: float64(1), int64(2)\n",
      "memory usage: 2.3 MB\n"
     ]
    }
   ],
   "source": [
    "ratings = ratings.drop('timestamp',axis = 1)\n",
    "ratings.info()"
   ]
  },
  {
   "cell_type": "markdown",
   "id": "c046f7cf",
   "metadata": {},
   "source": [
    "### Creating a rating matrix of userId x movieId by pivot_table()"
   ]
  },
  {
   "cell_type": "code",
   "execution_count": 18,
   "id": "b8ee12a1",
   "metadata": {},
   "outputs": [
    {
     "data": {
      "text/html": [
       "<div>\n",
       "<style scoped>\n",
       "    .dataframe tbody tr th:only-of-type {\n",
       "        vertical-align: middle;\n",
       "    }\n",
       "\n",
       "    .dataframe tbody tr th {\n",
       "        vertical-align: top;\n",
       "    }\n",
       "\n",
       "    .dataframe thead th {\n",
       "        text-align: right;\n",
       "    }\n",
       "</style>\n",
       "<table border=\"1\" class=\"dataframe\">\n",
       "  <thead>\n",
       "    <tr style=\"text-align: right;\">\n",
       "      <th>movieId</th>\n",
       "      <th>1</th>\n",
       "      <th>2</th>\n",
       "      <th>3</th>\n",
       "      <th>4</th>\n",
       "      <th>5</th>\n",
       "      <th>6</th>\n",
       "      <th>7</th>\n",
       "      <th>8</th>\n",
       "      <th>9</th>\n",
       "      <th>10</th>\n",
       "      <th>...</th>\n",
       "      <th>193565</th>\n",
       "      <th>193567</th>\n",
       "      <th>193571</th>\n",
       "      <th>193573</th>\n",
       "      <th>193579</th>\n",
       "      <th>193581</th>\n",
       "      <th>193583</th>\n",
       "      <th>193585</th>\n",
       "      <th>193587</th>\n",
       "      <th>193609</th>\n",
       "    </tr>\n",
       "    <tr>\n",
       "      <th>userId</th>\n",
       "      <th></th>\n",
       "      <th></th>\n",
       "      <th></th>\n",
       "      <th></th>\n",
       "      <th></th>\n",
       "      <th></th>\n",
       "      <th></th>\n",
       "      <th></th>\n",
       "      <th></th>\n",
       "      <th></th>\n",
       "      <th></th>\n",
       "      <th></th>\n",
       "      <th></th>\n",
       "      <th></th>\n",
       "      <th></th>\n",
       "      <th></th>\n",
       "      <th></th>\n",
       "      <th></th>\n",
       "      <th></th>\n",
       "      <th></th>\n",
       "      <th></th>\n",
       "    </tr>\n",
       "  </thead>\n",
       "  <tbody>\n",
       "    <tr>\n",
       "      <th>1</th>\n",
       "      <td>4.0</td>\n",
       "      <td>0.0</td>\n",
       "      <td>4.0</td>\n",
       "      <td>0.0</td>\n",
       "      <td>0.0</td>\n",
       "      <td>4.0</td>\n",
       "      <td>0.0</td>\n",
       "      <td>0</td>\n",
       "      <td>0.0</td>\n",
       "      <td>0.0</td>\n",
       "      <td>...</td>\n",
       "      <td>0.0</td>\n",
       "      <td>0</td>\n",
       "      <td>0</td>\n",
       "      <td>0</td>\n",
       "      <td>0.0</td>\n",
       "      <td>0</td>\n",
       "      <td>0.0</td>\n",
       "      <td>0.0</td>\n",
       "      <td>0.0</td>\n",
       "      <td>0</td>\n",
       "    </tr>\n",
       "    <tr>\n",
       "      <th>2</th>\n",
       "      <td>0.0</td>\n",
       "      <td>0.0</td>\n",
       "      <td>0.0</td>\n",
       "      <td>0.0</td>\n",
       "      <td>0.0</td>\n",
       "      <td>0.0</td>\n",
       "      <td>0.0</td>\n",
       "      <td>0</td>\n",
       "      <td>0.0</td>\n",
       "      <td>0.0</td>\n",
       "      <td>...</td>\n",
       "      <td>0.0</td>\n",
       "      <td>0</td>\n",
       "      <td>0</td>\n",
       "      <td>0</td>\n",
       "      <td>0.0</td>\n",
       "      <td>0</td>\n",
       "      <td>0.0</td>\n",
       "      <td>0.0</td>\n",
       "      <td>0.0</td>\n",
       "      <td>0</td>\n",
       "    </tr>\n",
       "    <tr>\n",
       "      <th>3</th>\n",
       "      <td>0.0</td>\n",
       "      <td>0.0</td>\n",
       "      <td>0.0</td>\n",
       "      <td>0.0</td>\n",
       "      <td>0.0</td>\n",
       "      <td>0.0</td>\n",
       "      <td>0.0</td>\n",
       "      <td>0</td>\n",
       "      <td>0.0</td>\n",
       "      <td>0.0</td>\n",
       "      <td>...</td>\n",
       "      <td>0.0</td>\n",
       "      <td>0</td>\n",
       "      <td>0</td>\n",
       "      <td>0</td>\n",
       "      <td>0.0</td>\n",
       "      <td>0</td>\n",
       "      <td>0.0</td>\n",
       "      <td>0.0</td>\n",
       "      <td>0.0</td>\n",
       "      <td>0</td>\n",
       "    </tr>\n",
       "    <tr>\n",
       "      <th>4</th>\n",
       "      <td>0.0</td>\n",
       "      <td>0.0</td>\n",
       "      <td>0.0</td>\n",
       "      <td>0.0</td>\n",
       "      <td>0.0</td>\n",
       "      <td>0.0</td>\n",
       "      <td>0.0</td>\n",
       "      <td>0</td>\n",
       "      <td>0.0</td>\n",
       "      <td>0.0</td>\n",
       "      <td>...</td>\n",
       "      <td>0.0</td>\n",
       "      <td>0</td>\n",
       "      <td>0</td>\n",
       "      <td>0</td>\n",
       "      <td>0.0</td>\n",
       "      <td>0</td>\n",
       "      <td>0.0</td>\n",
       "      <td>0.0</td>\n",
       "      <td>0.0</td>\n",
       "      <td>0</td>\n",
       "    </tr>\n",
       "    <tr>\n",
       "      <th>5</th>\n",
       "      <td>4.0</td>\n",
       "      <td>0.0</td>\n",
       "      <td>0.0</td>\n",
       "      <td>0.0</td>\n",
       "      <td>0.0</td>\n",
       "      <td>0.0</td>\n",
       "      <td>0.0</td>\n",
       "      <td>0</td>\n",
       "      <td>0.0</td>\n",
       "      <td>0.0</td>\n",
       "      <td>...</td>\n",
       "      <td>0.0</td>\n",
       "      <td>0</td>\n",
       "      <td>0</td>\n",
       "      <td>0</td>\n",
       "      <td>0.0</td>\n",
       "      <td>0</td>\n",
       "      <td>0.0</td>\n",
       "      <td>0.0</td>\n",
       "      <td>0.0</td>\n",
       "      <td>0</td>\n",
       "    </tr>\n",
       "    <tr>\n",
       "      <th>...</th>\n",
       "      <td>...</td>\n",
       "      <td>...</td>\n",
       "      <td>...</td>\n",
       "      <td>...</td>\n",
       "      <td>...</td>\n",
       "      <td>...</td>\n",
       "      <td>...</td>\n",
       "      <td>...</td>\n",
       "      <td>...</td>\n",
       "      <td>...</td>\n",
       "      <td>...</td>\n",
       "      <td>...</td>\n",
       "      <td>...</td>\n",
       "      <td>...</td>\n",
       "      <td>...</td>\n",
       "      <td>...</td>\n",
       "      <td>...</td>\n",
       "      <td>...</td>\n",
       "      <td>...</td>\n",
       "      <td>...</td>\n",
       "      <td>...</td>\n",
       "    </tr>\n",
       "    <tr>\n",
       "      <th>606</th>\n",
       "      <td>2.5</td>\n",
       "      <td>0.0</td>\n",
       "      <td>0.0</td>\n",
       "      <td>0.0</td>\n",
       "      <td>0.0</td>\n",
       "      <td>0.0</td>\n",
       "      <td>2.5</td>\n",
       "      <td>0</td>\n",
       "      <td>0.0</td>\n",
       "      <td>0.0</td>\n",
       "      <td>...</td>\n",
       "      <td>0.0</td>\n",
       "      <td>0</td>\n",
       "      <td>0</td>\n",
       "      <td>0</td>\n",
       "      <td>0.0</td>\n",
       "      <td>0</td>\n",
       "      <td>0.0</td>\n",
       "      <td>0.0</td>\n",
       "      <td>0.0</td>\n",
       "      <td>0</td>\n",
       "    </tr>\n",
       "    <tr>\n",
       "      <th>607</th>\n",
       "      <td>4.0</td>\n",
       "      <td>0.0</td>\n",
       "      <td>0.0</td>\n",
       "      <td>0.0</td>\n",
       "      <td>0.0</td>\n",
       "      <td>0.0</td>\n",
       "      <td>0.0</td>\n",
       "      <td>0</td>\n",
       "      <td>0.0</td>\n",
       "      <td>0.0</td>\n",
       "      <td>...</td>\n",
       "      <td>0.0</td>\n",
       "      <td>0</td>\n",
       "      <td>0</td>\n",
       "      <td>0</td>\n",
       "      <td>0.0</td>\n",
       "      <td>0</td>\n",
       "      <td>0.0</td>\n",
       "      <td>0.0</td>\n",
       "      <td>0.0</td>\n",
       "      <td>0</td>\n",
       "    </tr>\n",
       "    <tr>\n",
       "      <th>608</th>\n",
       "      <td>2.5</td>\n",
       "      <td>2.0</td>\n",
       "      <td>2.0</td>\n",
       "      <td>0.0</td>\n",
       "      <td>0.0</td>\n",
       "      <td>0.0</td>\n",
       "      <td>0.0</td>\n",
       "      <td>0</td>\n",
       "      <td>0.0</td>\n",
       "      <td>4.0</td>\n",
       "      <td>...</td>\n",
       "      <td>0.0</td>\n",
       "      <td>0</td>\n",
       "      <td>0</td>\n",
       "      <td>0</td>\n",
       "      <td>0.0</td>\n",
       "      <td>0</td>\n",
       "      <td>0.0</td>\n",
       "      <td>0.0</td>\n",
       "      <td>0.0</td>\n",
       "      <td>0</td>\n",
       "    </tr>\n",
       "    <tr>\n",
       "      <th>609</th>\n",
       "      <td>3.0</td>\n",
       "      <td>0.0</td>\n",
       "      <td>0.0</td>\n",
       "      <td>0.0</td>\n",
       "      <td>0.0</td>\n",
       "      <td>0.0</td>\n",
       "      <td>0.0</td>\n",
       "      <td>0</td>\n",
       "      <td>0.0</td>\n",
       "      <td>4.0</td>\n",
       "      <td>...</td>\n",
       "      <td>0.0</td>\n",
       "      <td>0</td>\n",
       "      <td>0</td>\n",
       "      <td>0</td>\n",
       "      <td>0.0</td>\n",
       "      <td>0</td>\n",
       "      <td>0.0</td>\n",
       "      <td>0.0</td>\n",
       "      <td>0.0</td>\n",
       "      <td>0</td>\n",
       "    </tr>\n",
       "    <tr>\n",
       "      <th>610</th>\n",
       "      <td>5.0</td>\n",
       "      <td>0.0</td>\n",
       "      <td>0.0</td>\n",
       "      <td>0.0</td>\n",
       "      <td>0.0</td>\n",
       "      <td>5.0</td>\n",
       "      <td>0.0</td>\n",
       "      <td>0</td>\n",
       "      <td>0.0</td>\n",
       "      <td>0.0</td>\n",
       "      <td>...</td>\n",
       "      <td>0.0</td>\n",
       "      <td>0</td>\n",
       "      <td>0</td>\n",
       "      <td>0</td>\n",
       "      <td>0.0</td>\n",
       "      <td>0</td>\n",
       "      <td>0.0</td>\n",
       "      <td>0.0</td>\n",
       "      <td>0.0</td>\n",
       "      <td>0</td>\n",
       "    </tr>\n",
       "  </tbody>\n",
       "</table>\n",
       "<p>610 rows × 9724 columns</p>\n",
       "</div>"
      ],
      "text/plain": [
       "movieId  1       2       3       4       5       6       7       8       \\\n",
       "userId                                                                    \n",
       "1           4.0     0.0     4.0     0.0     0.0     4.0     0.0       0   \n",
       "2           0.0     0.0     0.0     0.0     0.0     0.0     0.0       0   \n",
       "3           0.0     0.0     0.0     0.0     0.0     0.0     0.0       0   \n",
       "4           0.0     0.0     0.0     0.0     0.0     0.0     0.0       0   \n",
       "5           4.0     0.0     0.0     0.0     0.0     0.0     0.0       0   \n",
       "...         ...     ...     ...     ...     ...     ...     ...     ...   \n",
       "606         2.5     0.0     0.0     0.0     0.0     0.0     2.5       0   \n",
       "607         4.0     0.0     0.0     0.0     0.0     0.0     0.0       0   \n",
       "608         2.5     2.0     2.0     0.0     0.0     0.0     0.0       0   \n",
       "609         3.0     0.0     0.0     0.0     0.0     0.0     0.0       0   \n",
       "610         5.0     0.0     0.0     0.0     0.0     5.0     0.0       0   \n",
       "\n",
       "movieId  9       10      ...  193565  193567  193571  193573  193579  193581  \\\n",
       "userId                   ...                                                   \n",
       "1           0.0     0.0  ...     0.0       0       0       0     0.0       0   \n",
       "2           0.0     0.0  ...     0.0       0       0       0     0.0       0   \n",
       "3           0.0     0.0  ...     0.0       0       0       0     0.0       0   \n",
       "4           0.0     0.0  ...     0.0       0       0       0     0.0       0   \n",
       "5           0.0     0.0  ...     0.0       0       0       0     0.0       0   \n",
       "...         ...     ...  ...     ...     ...     ...     ...     ...     ...   \n",
       "606         0.0     0.0  ...     0.0       0       0       0     0.0       0   \n",
       "607         0.0     0.0  ...     0.0       0       0       0     0.0       0   \n",
       "608         0.0     4.0  ...     0.0       0       0       0     0.0       0   \n",
       "609         0.0     4.0  ...     0.0       0       0       0     0.0       0   \n",
       "610         0.0     0.0  ...     0.0       0       0       0     0.0       0   \n",
       "\n",
       "movieId  193583  193585  193587  193609  \n",
       "userId                                   \n",
       "1           0.0     0.0     0.0       0  \n",
       "2           0.0     0.0     0.0       0  \n",
       "3           0.0     0.0     0.0       0  \n",
       "4           0.0     0.0     0.0       0  \n",
       "5           0.0     0.0     0.0       0  \n",
       "...         ...     ...     ...     ...  \n",
       "606         0.0     0.0     0.0       0  \n",
       "607         0.0     0.0     0.0       0  \n",
       "608         0.0     0.0     0.0       0  \n",
       "609         0.0     0.0     0.0       0  \n",
       "610         0.0     0.0     0.0       0  \n",
       "\n",
       "[610 rows x 9724 columns]"
      ]
     },
     "execution_count": 18,
     "metadata": {},
     "output_type": "execute_result"
    }
   ],
   "source": [
    "rating_mat = ratings.pivot_table('rating', 'userId', 'movieId', fill_value=0)\n",
    "rating_mat"
   ]
  },
  {
   "cell_type": "markdown",
   "id": "fda21477",
   "metadata": {},
   "source": [
    "### From here we can see that there are a total of 610 users and 9724 movies.  We will denote the following variables   \n",
    "Nu = number of users  \n",
    "Nm = number of movies  \n",
    "Nl = dimension of the latent vector"
   ]
  },
  {
   "cell_type": "code",
   "execution_count": 25,
   "id": "89f48a3e",
   "metadata": {},
   "outputs": [
    {
     "data": {
      "text/plain": [
       "(610, 9724)"
      ]
     },
     "execution_count": 25,
     "metadata": {},
     "output_type": "execute_result"
    }
   ],
   "source": [
    "Nu = rating_mat.shape[0]\n",
    "Nm = rating_mat.shape[1]\n"
   ]
  },
  {
   "cell_type": "markdown",
   "id": "093956fd",
   "metadata": {},
   "source": [
    "## Parameters initialization\n",
    "###  We need to initialise the parameters lambda, alpha and Nf, the dimension of the latent variable. The following values provide the best performance according to the [paper](http://yifanhu.net/PUB/cf.pdf).  \n",
    "- r_lambda: normalization parameter  \n",
    "- alpha: confidence level  \n",
    "- Nf: dimension of latent vector of each user and item\n"
   ]
  },
  {
   "cell_type": "code",
   "execution_count": 26,
   "id": "a45ac922",
   "metadata": {},
   "outputs": [],
   "source": [
    "r_lambda = 20\n",
    "alpha = 400\n",
    "Nf = 20"
   ]
  },
  {
   "cell_type": "markdown",
   "id": "09f001c9",
   "metadata": {},
   "source": [
    "### Then we need to create user matrix, U, and movie matrix, M. "
   ]
  },
  {
   "cell_type": "code",
   "execution_count": 28,
   "id": "c30a828b",
   "metadata": {},
   "outputs": [
    {
     "data": {
      "text/plain": [
       "array([[8.73167437e-05, 9.05098799e-04, 3.49924608e-03, ...,\n",
       "        3.52853167e-03, 4.05581064e-03, 4.94824755e-03],\n",
       "       [1.06876739e-03, 3.12310629e-03, 2.45591761e-03, ...,\n",
       "        6.75319748e-03, 3.67604183e-04, 3.87114192e-03],\n",
       "       [4.23557439e-03, 2.71441566e-04, 3.79654283e-03, ...,\n",
       "        3.26058652e-03, 1.45376996e-03, 2.48833355e-03],\n",
       "       ...,\n",
       "       [8.06994925e-03, 4.22222376e-03, 4.09095877e-05, ...,\n",
       "        7.55900963e-04, 6.81093963e-03, 2.84016555e-03],\n",
       "       [8.72491526e-03, 5.89377868e-03, 9.76836141e-03, ...,\n",
       "        7.88521344e-03, 6.49410766e-03, 4.33512535e-03],\n",
       "       [6.90023043e-03, 1.80611820e-03, 7.81477563e-03, ...,\n",
       "        9.97662760e-03, 7.75733075e-03, 6.83790239e-03]])"
      ]
     },
     "execution_count": 28,
     "metadata": {},
     "output_type": "execute_result"
    }
   ],
   "source": [
    "U = np.random.rand(Nu, Nf) * 0.01\n",
    "M = np.random.rand(Nm, Nf) * 0.01\n",
    "M"
   ]
  },
  {
   "cell_type": "markdown",
   "id": "0a94e41f",
   "metadata": {},
   "source": [
    "### Initialize binary matrix, P, from rating matrix  \n",
    "The binary matrix, P, represent the information that whether the user i like movie j if rating_mat[i,j] > 1.  \n",
    "This is the part that provides the implicit feedback.  \n",
    "\n",
    "P[i,j] = 1 if rating_mat > 0  \n",
    "P[i,j] = 0 if rating_mat = 0   "
   ]
  },
  {
   "cell_type": "code",
   "execution_count": 30,
   "id": "72c5dca4",
   "metadata": {},
   "outputs": [
    {
     "data": {
      "text/plain": [
       "array([[1., 0., 1., ..., 0., 0., 0.],\n",
       "       [0., 0., 0., ..., 0., 0., 0.],\n",
       "       [0., 0., 0., ..., 0., 0., 0.],\n",
       "       ...,\n",
       "       [1., 1., 1., ..., 0., 0., 0.],\n",
       "       [1., 0., 0., ..., 0., 0., 0.],\n",
       "       [1., 0., 0., ..., 0., 0., 0.]])"
      ]
     },
     "execution_count": 30,
     "metadata": {},
     "output_type": "execute_result"
    }
   ],
   "source": [
    "P = np.copy(rating_mat)\n",
    "P[P > 0] = 1\n",
    "P"
   ]
  },
  {
   "cell_type": "markdown",
   "id": "58ef74c6",
   "metadata": {},
   "source": [
    "### Initialize confidence matrix, C\n",
    "The confidence matrix, C, measures the confidence in observing p[i,j].   \n",
    "Each entry of C is defined below  \n",
    "C[i,j] = 1 + alpha* rating_mat[i,j]"
   ]
  },
  {
   "cell_type": "code",
   "execution_count": 73,
   "id": "0d2a6066",
   "metadata": {},
   "outputs": [
    {
     "data": {
      "text/plain": [
       "array([[1.601e+03, 1.000e+00, 1.601e+03, ..., 1.000e+00, 1.000e+00,\n",
       "        1.000e+00],\n",
       "       [1.000e+00, 1.000e+00, 1.000e+00, ..., 1.000e+00, 1.000e+00,\n",
       "        1.000e+00],\n",
       "       [1.000e+00, 1.000e+00, 1.000e+00, ..., 1.000e+00, 1.000e+00,\n",
       "        1.000e+00],\n",
       "       ...,\n",
       "       [1.001e+03, 8.010e+02, 8.010e+02, ..., 1.000e+00, 1.000e+00,\n",
       "        1.000e+00],\n",
       "       [1.201e+03, 1.000e+00, 1.000e+00, ..., 1.000e+00, 1.000e+00,\n",
       "        1.000e+00],\n",
       "       [2.001e+03, 1.000e+00, 1.000e+00, ..., 1.000e+00, 1.000e+00,\n",
       "        1.000e+00]])"
      ]
     },
     "execution_count": 73,
     "metadata": {},
     "output_type": "execute_result"
    }
   ],
   "source": [
    "C = 1 + alpha * rating_mat\n",
    "C = C.to_numpy()\n",
    "C"
   ]
  },
  {
   "attachments": {
    "Screenshot%202022-04-16%20at%2009.37.01.png": {
     "image/png": "[encoded data removed]"
    }
   },
   "cell_type": "markdown",
   "id": "e0c8de4c",
   "metadata": {},
   "source": [
    "### Constructing loss function\n",
    "Remember that the loss function that we are trying to minimize comes in two parts, the prediction loss and the regularization loss. Here we will define the loss function.  \n",
    "\n",
    "![Screenshot%202022-04-16%20at%2009.37.01.png](attachment:Screenshot%202022-04-16%20at%2009.37.01.png)\n",
    "\n",
    "- P : binary rating matrix\n",
    "- X : user latent matrix\n",
    "- Y : movie latent matrix\n",
    "- C : confidence matrix\n",
    "- xTy : prediction matrix \n",
    "\n"
   ]
  },
  {
   "cell_type": "code",
   "execution_count": 54,
   "id": "21459122",
   "metadata": {},
   "outputs": [],
   "source": [
    "def loss_func(P,xTy,X,Y,C,r_lambda):\n",
    "    prediction_loss = np.square(P - xTy)\n",
    "    confidence_loss = np.sum(C * prediction_loss)\n",
    "    regularization_loss = r_lambda * (np.sum(np.square(X)) + np.sum(np.square(Y)))\n",
    "    total_loss = confidence_loss + regularization_loss\n",
    "    return np.sum(prediction_loss), confidence_loss.astype(float), regularization_loss ,total_loss"
   ]
  },
  {
   "cell_type": "markdown",
   "id": "43711cad",
   "metadata": {},
   "source": [
    "### Optimization function for user and movie\n",
    "X[u] = (yTCuy + lambda*I)^-1yTCuy  \n",
    "Y[i] = (xTCix + lambda*I)^-1xTCix  \n",
    "The above formulas are the\n",
    "two formula is the same when it changes X to Y and u to i  "
   ]
  },
  {
   "cell_type": "code",
   "execution_count": 82,
   "id": "5ef6d6c0",
   "metadata": {},
   "outputs": [],
   "source": [
    "def optimize_user(X, Y, C, P, Nu, Nf, r_lambda):\n",
    "    yT = np.transpose(Y)\n",
    "    for u in tqdm_notebook(range(Nu),desc = 'Optimizing User Matrix'):\n",
    "        Cu = np.diag(C[u])\n",
    "        yT_Cu_y = np.matmul(np.matmul(yT, Cu), Y)\n",
    "        lI = np.dot(r_lambda, np.identity(Nf))\n",
    "        yT_Cu_pu = np.matmul(np.matmul(yT, Cu), P[u])\n",
    "        X[u] = np.linalg.solve(yT_Cu_y + lI, yT_Cu_pu)\n",
    "\n",
    "def optimize_movie(X, Y, C, P, Nm, Nf, r_lambda):\n",
    "    xT = np.transpose(X)\n",
    "    for i in tqdm_notebook(range(Nm), desc = 'Optimizing Movie Matrix'):\n",
    "        Ci = np.diag(C[:, i])\n",
    "        xT_Ci_x = np.matmul(np.matmul(xT, Ci), X)\n",
    "        lI = np.dot(r_lambda, np.identity(Nf))\n",
    "        xT_Ci_pi = np.matmul(np.matmul(xT, Ci), P[:, i])\n",
    "        Y[i] = np.linalg.solve(xT_Ci_x + lI, xT_Ci_pi)"
   ]
  },
  {
   "cell_type": "code",
   "execution_count": 85,
   "id": "96ae325b",
   "metadata": {},
   "outputs": [
    {
     "data": {
      "application/vnd.jupyter.widget-view+json": {
       "model_id": "2611e6c1e926446e9f5471ae2139415e",
       "version_major": 2,
       "version_minor": 0
      },
      "text/plain": [
       "Main training Loop:   0%|          | 0/15 [00:00<?, ?it/s]"
      ]
     },
     "metadata": {},
     "output_type": "display_data"
    },
    {
     "name": "stdout",
     "output_type": "stream",
     "text": [
      "----------------step 0----------------\n",
      "predict error: 2777823.220202\n",
      "confidence error: 10373023.895312458\n",
      "regularization: 11610049.806053\n",
      "total loss: 21983073.701365\n"
     ]
    },
    {
     "data": {
      "application/vnd.jupyter.widget-view+json": {
       "model_id": "a2dfffd790254f1da19190434f2d4103",
       "version_major": 2,
       "version_minor": 0
      },
      "text/plain": [
       "Optimizing User Matrix:   0%|          | 0/610 [00:00<?, ?it/s]"
      ]
     },
     "metadata": {},
     "output_type": "display_data"
    },
    {
     "data": {
      "application/vnd.jupyter.widget-view+json": {
       "model_id": "5970d313a8764038a3f5220075b69b8c",
       "version_major": 2,
       "version_minor": 0
      },
      "text/plain": [
       "Optimizing Movie Matrix:   0%|          | 0/9724 [00:00<?, ?it/s]"
      ]
     },
     "metadata": {},
     "output_type": "display_data"
    },
    {
     "name": "stdout",
     "output_type": "stream",
     "text": [
      "----------------step 1----------------\n",
      "predict error: 1151810.554899\n",
      "confidence error: 2146512.086479279\n",
      "regularization: 11660498.790241\n",
      "total loss: 13807010.876720\n"
     ]
    },
    {
     "data": {
      "application/vnd.jupyter.widget-view+json": {
       "model_id": "b51fd18713cb47578942bf29f34031d8",
       "version_major": 2,
       "version_minor": 0
      },
      "text/plain": [
       "Optimizing User Matrix:   0%|          | 0/610 [00:00<?, ?it/s]"
      ]
     },
     "metadata": {},
     "output_type": "display_data"
    },
    {
     "data": {
      "application/vnd.jupyter.widget-view+json": {
       "model_id": "2543ddc0fd5844a6949960e8f122b0e8",
       "version_major": 2,
       "version_minor": 0
      },
      "text/plain": [
       "Optimizing Movie Matrix:   0%|          | 0/9724 [00:00<?, ?it/s]"
      ]
     },
     "metadata": {},
     "output_type": "display_data"
    },
    {
     "name": "stdout",
     "output_type": "stream",
     "text": [
      "----------------step 2----------------\n",
      "predict error: 948917.748956\n",
      "confidence error: 1466285.6476057542\n",
      "regularization: 5590846.049858\n",
      "total loss: 7057131.697464\n"
     ]
    },
    {
     "data": {
      "application/vnd.jupyter.widget-view+json": {
       "model_id": "a70185d3a2054765b5a30d1f29bb3429",
       "version_major": 2,
       "version_minor": 0
      },
      "text/plain": [
       "Optimizing User Matrix:   0%|          | 0/610 [00:00<?, ?it/s]"
      ]
     },
     "metadata": {},
     "output_type": "display_data"
    },
    {
     "data": {
      "application/vnd.jupyter.widget-view+json": {
       "model_id": "44a8dd7fa5254ad38ada8aa19febb3f9",
       "version_major": 2,
       "version_minor": 0
      },
      "text/plain": [
       "Optimizing Movie Matrix:   0%|          | 0/9724 [00:00<?, ?it/s]"
      ]
     },
     "metadata": {},
     "output_type": "display_data"
    },
    {
     "name": "stdout",
     "output_type": "stream",
     "text": [
      "----------------step 3----------------\n",
      "predict error: 844500.172392\n",
      "confidence error: 1092062.2151374551\n",
      "regularization: 2656319.139949\n",
      "total loss: 3748381.355086\n"
     ]
    },
    {
     "data": {
      "application/vnd.jupyter.widget-view+json": {
       "model_id": "df071ffa99d048a191bcaf516a71f924",
       "version_major": 2,
       "version_minor": 0
      },
      "text/plain": [
       "Optimizing User Matrix:   0%|          | 0/610 [00:00<?, ?it/s]"
      ]
     },
     "metadata": {},
     "output_type": "display_data"
    },
    {
     "data": {
      "application/vnd.jupyter.widget-view+json": {
       "model_id": "88aeef392e5b4c8fb3117bba7be0e035",
       "version_major": 2,
       "version_minor": 0
      },
      "text/plain": [
       "Optimizing Movie Matrix:   0%|          | 0/9724 [00:00<?, ?it/s]"
      ]
     },
     "metadata": {},
     "output_type": "display_data"
    },
    {
     "name": "stdout",
     "output_type": "stream",
     "text": [
      "----------------step 4----------------\n",
      "predict error: 791716.638324\n",
      "confidence error: 935078.6876059474\n",
      "regularization: 1469819.883465\n",
      "total loss: 2404898.571071\n"
     ]
    },
    {
     "data": {
      "application/vnd.jupyter.widget-view+json": {
       "model_id": "61a87877e0464be78498be620fead78b",
       "version_major": 2,
       "version_minor": 0
      },
      "text/plain": [
       "Optimizing User Matrix:   0%|          | 0/610 [00:00<?, ?it/s]"
      ]
     },
     "metadata": {},
     "output_type": "display_data"
    },
    {
     "data": {
      "application/vnd.jupyter.widget-view+json": {
       "model_id": "5134bf1b1ea94c00a602cb806678d610",
       "version_major": 2,
       "version_minor": 0
      },
      "text/plain": [
       "Optimizing Movie Matrix:   0%|          | 0/9724 [00:00<?, ?it/s]"
      ]
     },
     "metadata": {},
     "output_type": "display_data"
    },
    {
     "name": "stdout",
     "output_type": "stream",
     "text": [
      "----------------step 5----------------\n",
      "predict error: 766100.246039\n",
      "confidence error: 871172.1954796556\n",
      "regularization: 1034217.805063\n",
      "total loss: 1905390.000542\n"
     ]
    },
    {
     "data": {
      "application/vnd.jupyter.widget-view+json": {
       "model_id": "51211e5358af4f35875e42b74a0fa088",
       "version_major": 2,
       "version_minor": 0
      },
      "text/plain": [
       "Optimizing User Matrix:   0%|          | 0/610 [00:00<?, ?it/s]"
      ]
     },
     "metadata": {},
     "output_type": "display_data"
    },
    {
     "data": {
      "application/vnd.jupyter.widget-view+json": {
       "model_id": "ed8bcdb5eceb4dea8d0fb274348160e2",
       "version_major": 2,
       "version_minor": 0
      },
      "text/plain": [
       "Optimizing Movie Matrix:   0%|          | 0/9724 [00:00<?, ?it/s]"
      ]
     },
     "metadata": {},
     "output_type": "display_data"
    },
    {
     "name": "stdout",
     "output_type": "stream",
     "text": [
      "----------------step 6----------------\n",
      "predict error: 749322.977928\n",
      "confidence error: 838726.4594591301\n",
      "regularization: 852831.544282\n",
      "total loss: 1691558.003741\n"
     ]
    },
    {
     "data": {
      "application/vnd.jupyter.widget-view+json": {
       "model_id": "ddf4643c653d46f4a2f091aeed21eca4",
       "version_major": 2,
       "version_minor": 0
      },
      "text/plain": [
       "Optimizing User Matrix:   0%|          | 0/610 [00:00<?, ?it/s]"
      ]
     },
     "metadata": {},
     "output_type": "display_data"
    },
    {
     "data": {
      "application/vnd.jupyter.widget-view+json": {
       "model_id": "5ab9cd1dc7094aca9bc9f671fcdfb780",
       "version_major": 2,
       "version_minor": 0
      },
      "text/plain": [
       "Optimizing Movie Matrix:   0%|          | 0/9724 [00:00<?, ?it/s]"
      ]
     },
     "metadata": {},
     "output_type": "display_data"
    },
    {
     "name": "stdout",
     "output_type": "stream",
     "text": [
      "----------------step 7----------------\n",
      "predict error: 736013.809100\n",
      "confidence error: 817611.4585345566\n",
      "regularization: 758908.422023\n",
      "total loss: 1576519.880557\n"
     ]
    },
    {
     "data": {
      "application/vnd.jupyter.widget-view+json": {
       "model_id": "d3e8b303c9d848e7992ba4c504d7422a",
       "version_major": 2,
       "version_minor": 0
      },
      "text/plain": [
       "Optimizing User Matrix:   0%|          | 0/610 [00:00<?, ?it/s]"
      ]
     },
     "metadata": {},
     "output_type": "display_data"
    },
    {
     "data": {
      "application/vnd.jupyter.widget-view+json": {
       "model_id": "39fa8ac7f4984dfc97a0ac10dddf49cc",
       "version_major": 2,
       "version_minor": 0
      },
      "text/plain": [
       "Optimizing Movie Matrix:   0%|          | 0/9724 [00:00<?, ?it/s]"
      ]
     },
     "metadata": {},
     "output_type": "display_data"
    },
    {
     "name": "stdout",
     "output_type": "stream",
     "text": [
      "----------------step 8----------------\n",
      "predict error: 724898.697325\n",
      "confidence error: 801697.2598911896\n",
      "regularization: 700242.042086\n",
      "total loss: 1501939.301977\n"
     ]
    },
    {
     "data": {
      "application/vnd.jupyter.widget-view+json": {
       "model_id": "bc563d0325734c618f8094141612d1e7",
       "version_major": 2,
       "version_minor": 0
      },
      "text/plain": [
       "Optimizing User Matrix:   0%|          | 0/610 [00:00<?, ?it/s]"
      ]
     },
     "metadata": {},
     "output_type": "display_data"
    },
    {
     "data": {
      "application/vnd.jupyter.widget-view+json": {
       "model_id": "6f453ce542f94414b42177e229884010",
       "version_major": 2,
       "version_minor": 0
      },
      "text/plain": [
       "Optimizing Movie Matrix:   0%|          | 0/9724 [00:00<?, ?it/s]"
      ]
     },
     "metadata": {},
     "output_type": "display_data"
    },
    {
     "name": "stdout",
     "output_type": "stream",
     "text": [
      "----------------step 9----------------\n",
      "predict error: 715484.232207\n",
      "confidence error: 788874.556920092\n",
      "regularization: 658766.677990\n",
      "total loss: 1447641.234910\n"
     ]
    },
    {
     "data": {
      "application/vnd.jupyter.widget-view+json": {
       "model_id": "ca8894c4d30443f5b03ef6c1cd6887d0",
       "version_major": 2,
       "version_minor": 0
      },
      "text/plain": [
       "Optimizing User Matrix:   0%|          | 0/610 [00:00<?, ?it/s]"
      ]
     },
     "metadata": {},
     "output_type": "display_data"
    },
    {
     "data": {
      "application/vnd.jupyter.widget-view+json": {
       "model_id": "2b3c0408c407489fb8b0f1afefbdc824",
       "version_major": 2,
       "version_minor": 0
      },
      "text/plain": [
       "Optimizing Movie Matrix:   0%|          | 0/9724 [00:00<?, ?it/s]"
      ]
     },
     "metadata": {},
     "output_type": "display_data"
    },
    {
     "name": "stdout",
     "output_type": "stream",
     "text": [
      "----------------step 10----------------\n",
      "predict error: 707450.340453\n",
      "confidence error: 778191.3280633395\n",
      "regularization: 627190.971678\n",
      "total loss: 1405382.299741\n"
     ]
    },
    {
     "data": {
      "application/vnd.jupyter.widget-view+json": {
       "model_id": "80af61940e3640adadf8543b4d66532e",
       "version_major": 2,
       "version_minor": 0
      },
      "text/plain": [
       "Optimizing User Matrix:   0%|          | 0/610 [00:00<?, ?it/s]"
      ]
     },
     "metadata": {},
     "output_type": "display_data"
    },
    {
     "data": {
      "application/vnd.jupyter.widget-view+json": {
       "model_id": "05230200b6ae40b6b123e2b22bd4ad3f",
       "version_major": 2,
       "version_minor": 0
      },
      "text/plain": [
       "Optimizing Movie Matrix:   0%|          | 0/9724 [00:00<?, ?it/s]"
      ]
     },
     "metadata": {},
     "output_type": "display_data"
    },
    {
     "name": "stdout",
     "output_type": "stream",
     "text": [
      "----------------step 11----------------\n",
      "predict error: 700561.138718\n",
      "confidence error: 769116.1859541\n",
      "regularization: 602011.516400\n",
      "total loss: 1371127.702354\n"
     ]
    },
    {
     "data": {
      "application/vnd.jupyter.widget-view+json": {
       "model_id": "6343129620114ee896aa371fede4f14a",
       "version_major": 2,
       "version_minor": 0
      },
      "text/plain": [
       "Optimizing User Matrix:   0%|          | 0/610 [00:00<?, ?it/s]"
      ]
     },
     "metadata": {},
     "output_type": "display_data"
    },
    {
     "data": {
      "application/vnd.jupyter.widget-view+json": {
       "model_id": "52b1d039f37a4fb8a698c25f6bfc94fb",
       "version_major": 2,
       "version_minor": 0
      },
      "text/plain": [
       "Optimizing Movie Matrix:   0%|          | 0/9724 [00:00<?, ?it/s]"
      ]
     },
     "metadata": {},
     "output_type": "display_data"
    },
    {
     "name": "stdout",
     "output_type": "stream",
     "text": [
      "----------------step 12----------------\n",
      "predict error: 694618.132250\n",
      "confidence error: 761305.2121927912\n",
      "regularization: 581268.610669\n",
      "total loss: 1342573.822862\n"
     ]
    },
    {
     "data": {
      "application/vnd.jupyter.widget-view+json": {
       "model_id": "ed7e41d97db14ba692d6fba4ba4d2eb2",
       "version_major": 2,
       "version_minor": 0
      },
      "text/plain": [
       "Optimizing User Matrix:   0%|          | 0/610 [00:00<?, ?it/s]"
      ]
     },
     "metadata": {},
     "output_type": "display_data"
    },
    {
     "data": {
      "application/vnd.jupyter.widget-view+json": {
       "model_id": "4fc1dcea91bd4babafb1fb6c99d99de9",
       "version_major": 2,
       "version_minor": 0
      },
      "text/plain": [
       "Optimizing Movie Matrix:   0%|          | 0/9724 [00:00<?, ?it/s]"
      ]
     },
     "metadata": {},
     "output_type": "display_data"
    },
    {
     "name": "stdout",
     "output_type": "stream",
     "text": [
      "----------------step 13----------------\n",
      "predict error: 689443.180872\n",
      "confidence error: 754502.381971125\n",
      "regularization: 563748.154931\n",
      "total loss: 1318250.536902\n"
     ]
    },
    {
     "data": {
      "application/vnd.jupyter.widget-view+json": {
       "model_id": "3f8aa81a6b1b4ef2969cc2933d12c937",
       "version_major": 2,
       "version_minor": 0
      },
      "text/plain": [
       "Optimizing User Matrix:   0%|          | 0/610 [00:00<?, ?it/s]"
      ]
     },
     "metadata": {},
     "output_type": "display_data"
    },
    {
     "data": {
      "application/vnd.jupyter.widget-view+json": {
       "model_id": "cd3fad6f4f2644f9a1d3d71b6ec899a9",
       "version_major": 2,
       "version_minor": 0
      },
      "text/plain": [
       "Optimizing Movie Matrix:   0%|          | 0/9724 [00:00<?, ?it/s]"
      ]
     },
     "metadata": {},
     "output_type": "display_data"
    },
    {
     "name": "stdout",
     "output_type": "stream",
     "text": [
      "----------------step 14----------------\n",
      "predict error: 684886.166343\n",
      "confidence error: 748507.3427055132\n",
      "regularization: 548648.094251\n",
      "total loss: 1297155.436956\n",
      "final predict\n",
      "[array([[ 1.00303829,  0.99556943,  0.98381099, ..., -0.12938931,\n",
      "        -0.12938931, -0.16904929],\n",
      "       [ 0.95704142,  0.92985785,  0.77295637, ...,  0.1631968 ,\n",
      "         0.1631968 ,  0.33612004],\n",
      "       [ 0.92040273,  0.89777733,  0.90727972, ..., -0.00277233,\n",
      "        -0.00277233, -0.1396807 ],\n",
      "       ...,\n",
      "       [ 1.00523487,  1.01564844,  1.02561738, ..., -0.24587623,\n",
      "        -0.24587623,  0.00936036],\n",
      "       [ 0.99829668,  0.9751186 ,  0.96286047, ..., -0.22397197,\n",
      "        -0.22397197, -0.13391347],\n",
      "       [ 0.99146173,  0.98954438,  0.78465447, ..., -0.02291399,\n",
      "        -0.02291399, -0.41010574]])]\n"
     ]
    }
   ],
   "source": [
    "predict_errors = []\n",
    "confidence_errors = []\n",
    "regularization_list = []\n",
    "total_losses = []\n",
    "\n",
    "for i in tqdm_notebook(range(15), desc = 'Main training Loop'):\n",
    "    if i!=0:   \n",
    "        optimize_user(U, M, C, P, Nu, Nf, r_lambda)\n",
    "        optimize_movie(U, M, C, P, Nm, Nf, r_lambda)\n",
    "    predict = np.matmul(U, np.transpose(M))\n",
    "    predict_error, confidence_error, regularization, total_loss = loss_func(P, predict, U, M,C, r_lambda)\n",
    "    \n",
    "    predict_errors.append(predict_error)\n",
    "    confidence_errors.append(confidence_error)\n",
    "    regularization_list.append(regularization)\n",
    "    total_losses.append(total_loss)\n",
    "    \n",
    "    print('----------------step %d----------------' % i)\n",
    "    print(\"predict error: %f\" % predict_error)\n",
    "    print(\"confidence error: {}\".format(confidence_error))\n",
    "    print(\"regularization: %f\" % regularization)\n",
    "    print(\"total loss: %f\" % total_loss)\n",
    "    \n",
    "predict = np.matmul(U, np.transpose(M))\n",
    "print('final predict')\n",
    "print([predict])"
   ]
  },
  {
   "cell_type": "code",
   "execution_count": 86,
   "id": "d9cc2303",
   "metadata": {},
   "outputs": [
    {
     "data": {
      "text/plain": [
       "<Figure size 432x288 with 0 Axes>"
      ]
     },
     "metadata": {},
     "output_type": "display_data"
    },
    {
     "data": {
      "image/png": "[encoded data removed]",
      "text/plain": [
       "<Figure size 720x720 with 4 Axes>"
      ]
     },
     "metadata": {
      "needs_background": "light"
     },
     "output_type": "display_data"
    }
   ],
   "source": [
    "from matplotlib import pyplot as plt\n",
    "%matplotlib inline\n",
    "\n",
    "plt.subplots_adjust(wspace=100.0, hspace=20.0)\n",
    "fig = plt.figure()\n",
    "fig.set_figheight(10)\n",
    "fig.set_figwidth(10)\n",
    "predict_error_line = fig.add_subplot(2, 2, 1)\n",
    "confidence_error_line = fig.add_subplot(2, 2, 2)\n",
    "regularization_error_line = fig.add_subplot(2, 2, 3)\n",
    "total_loss_line = fig.add_subplot(2, 2, 4)\n",
    "\n",
    "predict_error_line.set_title(\"Predict Error\") \n",
    "predict_error_line.plot(predict_errors)\n",
    "\n",
    "confidence_error_line.set_title(\"Confidence Error\")\n",
    "confidence_error_line.plot(confidence_errors)\n",
    "\n",
    "regularization_error_line.set_title(\"Regularization\")\n",
    "regularization_error_line.plot(regularization_list)\n",
    "\n",
    "total_loss_line.set_title(\"Total Loss\")\n",
    "total_loss_line.plot(total_losses)\n",
    "plt.show()"
   ]
  },
  {
   "cell_type": "code",
   "execution_count": null,
   "id": "d0c5a8ec",
   "metadata": {},
   "outputs": [],
   "source": []
  }
 ],
 "metadata": {
  "kernelspec": {
   "display_name": "Python 3.9.7 ('base')",
   "language": "python",
   "name": "python397jvsc74a57bd0a6357a87187256456bc5815c56d7a048f65e9ae61716d047186735a6ce6a8120"
  },
  "language_info": {
   "codemirror_mode": {
    "name": "ipython",
    "version": 3
   },
   "file_extension": ".py",
   "mimetype": "text/x-python",
   "name": "python",
   "nbconvert_exporter": "python",
   "pygments_lexer": "ipython3",
   "version": "3.9.7"
  }
 },
 "nbformat": 4,
 "nbformat_minor": 5
}
